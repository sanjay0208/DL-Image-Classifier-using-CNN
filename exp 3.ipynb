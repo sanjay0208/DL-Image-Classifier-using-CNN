{
  "nbformat": 4,
  "nbformat_minor": 0,
  "metadata": {
    "colab": {
      "provenance": []
    },
    "kernelspec": {
      "name": "python3",
      "display_name": "Python 3"
    },
    "language_info": {
      "name": "python"
    }
  },
  "cells": [
    {
      "cell_type": "code",
      "source": [
        "print(\"name:SANJAY M\")\n",
        "print(\"reg no:212222110038\")"
      ],
      "metadata": {
        "colab": {
          "base_uri": "https://localhost:8080/"
        },
        "id": "3HnhAgDH448n",
        "outputId": "120c83e5-1d22-4124-fbf3-b71969f7581d"
      },
      "execution_count": null,
      "outputs": [
        {
          "output_type": "stream",
          "name": "stdout",
          "text": [
            "name:SANJAY M\n",
            "reg no:212222110038\n"
          ]
        }
      ]
    },
    {
      "cell_type": "code",
      "execution_count": null,
      "metadata": {
        "id": "GvsR0xvEzKJk"
      },
      "outputs": [],
      "source": [
        "\n",
        "\n",
        "import torch\n",
        "import torch.nn as nn\n",
        "import torch.nn.functional as F\n",
        "from torch.utils.data import DataLoader\n",
        "from torchvision import datasets, transforms\n",
        "from torchvision.utils import make_grid\n",
        "\n",
        "import numpy as np\n",
        "import pandas as pd\n",
        "from sklearn.metrics import confusion_matrix\n",
        "import matplotlib.pyplot as plt\n"
      ]
    },
    {
      "cell_type": "code",
      "source": [
        "\n",
        "transform = transforms.ToTensor()"
      ],
      "metadata": {
        "id": "ERZpOp7szQ_8"
      },
      "execution_count": null,
      "outputs": []
    },
    {
      "cell_type": "code",
      "source": [
        "\n",
        "train_data = datasets.MNIST(root='../Data', train=True, download=True, transform=transform)"
      ],
      "metadata": {
        "colab": {
          "base_uri": "https://localhost:8080/"
        },
        "id": "R6U5gTl7zUMR",
        "outputId": "25018bae-a229-4944-8351-e42280986118"
      },
      "execution_count": null,
      "outputs": [
        {
          "output_type": "stream",
          "name": "stderr",
          "text": [
            "100%|██████████| 9.91M/9.91M [00:00<00:00, 17.5MB/s]\n",
            "100%|██████████| 28.9k/28.9k [00:00<00:00, 477kB/s]\n",
            "100%|██████████| 1.65M/1.65M [00:00<00:00, 4.38MB/s]\n",
            "100%|██████████| 4.54k/4.54k [00:00<00:00, 5.90MB/s]\n"
          ]
        }
      ]
    },
    {
      "cell_type": "code",
      "source": [
        "train_loader = DataLoader(train_data, batch_size=10, shuffle=True)\n",
        "\n",
        "test_data = datasets.MNIST(root='../Data', train=False, download=True, transform=transform)\n",
        "test_loader = DataLoader(test_data, batch_size=10, shuffle=False)"
      ],
      "metadata": {
        "id": "Xr6aAEZd0bok"
      },
      "execution_count": null,
      "outputs": []
    },
    {
      "cell_type": "code",
      "source": [
        "\n",
        "for i, (X_train, y_train) in enumerate(train_data):\n",
        "    break"
      ],
      "metadata": {
        "id": "ElflHXtq04Ek"
      },
      "execution_count": null,
      "outputs": []
    },
    {
      "cell_type": "code",
      "source": [
        "\n",
        "\n",
        "x = X_train.view(1,1,28,28)"
      ],
      "metadata": {
        "id": "DNyVR-1X07N6"
      },
      "execution_count": null,
      "outputs": []
    },
    {
      "cell_type": "code",
      "source": [
        "\n",
        "class ConvolutionalNetwork(nn.Module):\n",
        "\n",
        "    def __init__(self):\n",
        "        super().__init__()\n",
        "        self.conv1 = nn.Conv2d(1,6,3,1)\n",
        "        self.conv2 = nn.Conv2d(6,16,3,1)\n",
        "        self.fc1 = nn.Linear(5*5*16,120)\n",
        "        self.fc2 = nn.Linear(120,84)\n",
        "        self.fc3 = nn.Linear(84,10)\n",
        "\n",
        "    def forward(self, X):\n",
        "        X = F.relu(self.conv1(X))\n",
        "        X = F.max_pool2d(X, 2, 2)\n",
        "        X = F.relu(self.conv2(X))\n",
        "        X = F.max_pool2d(X, 2, 2)\n",
        "        X = X.view(-1, 5*5*16)\n",
        "        X = F.relu(self.fc1(X))\n",
        "        X = F.relu(self.fc2(X))\n",
        "        X = self.fc3(X)\n",
        "        return F.log_softmax(X, dim=1)"
      ],
      "metadata": {
        "id": "XejXw0sa0_eh"
      },
      "execution_count": null,
      "outputs": []
    },
    {
      "cell_type": "code",
      "source": [
        "\n",
        "torch.manual_seed(42)\n",
        "model = ConvolutionalNetwork()\n",
        "model"
      ],
      "metadata": {
        "colab": {
          "base_uri": "https://localhost:8080/"
        },
        "id": "NdxUV1Le1BTQ",
        "outputId": "5f63cc5e-1f06-4a85-83f8-dc146c193d5a"
      },
      "execution_count": null,
      "outputs": [
        {
          "output_type": "execute_result",
          "data": {
            "text/plain": [
              "ConvolutionalNetwork(\n",
              "  (conv1): Conv2d(1, 6, kernel_size=(3, 3), stride=(1, 1))\n",
              "  (conv2): Conv2d(6, 16, kernel_size=(3, 3), stride=(1, 1))\n",
              "  (fc1): Linear(in_features=400, out_features=120, bias=True)\n",
              "  (fc2): Linear(in_features=120, out_features=84, bias=True)\n",
              "  (fc3): Linear(in_features=84, out_features=10, bias=True)\n",
              ")"
            ]
          },
          "metadata": {},
          "execution_count": 13
        }
      ]
    },
    {
      "cell_type": "code",
      "source": [
        "criterion = nn.CrossEntropyLoss()\n",
        "optimizer = torch.optim.Adam(model.parameters(), lr=0.001)\n"
      ],
      "metadata": {
        "id": "q12xGBNQ1Ztg"
      },
      "execution_count": null,
      "outputs": []
    },
    {
      "cell_type": "code",
      "source": [
        "import torch\n",
        "import torch.nn as nn\n",
        "import torch.nn.functional as F\n",
        "from torch.utils.data import DataLoader\n",
        "from torchvision import datasets, transforms\n",
        "from torchvision.utils import make_grid\n",
        "\n",
        "import numpy as np\n",
        "import pandas as pd\n",
        "from sklearn.metrics import confusion_matrix\n",
        "import matplotlib.pyplot as plt\n",
        "\n",
        "# %%\n",
        "\n",
        "transform = transforms.ToTensor()\n",
        "# %%\n",
        "\n",
        "train_data = datasets.MNIST(root='../Data', train=True, download=True, transform=transform)\n",
        "# %%\n",
        "train_loader = DataLoader(train_data, batch_size=10, shuffle=True)\n",
        "\n",
        "test_data = datasets.MNIST(root='../Data', train=False, download=True, transform=transform)\n",
        "test_loader = DataLoader(test_data, batch_size=10, shuffle=False)\n",
        "# %%\n",
        "\n",
        "for i, (X_train, y_train) in enumerate(train_data):\n",
        "    break\n",
        "# %%\n",
        "\n",
        "\n",
        "x = X_train.view(1,1,28,28)\n",
        "# %%\n",
        "\n",
        "class ConvolutionalNetwork(nn.Module):\n",
        "\n",
        "    def __init__(self):\n",
        "        super().__init__()\n",
        "        self.conv1 = nn.Conv2d(1,6,3,1)\n",
        "        self.conv2 = nn.Conv2d(6,16,3,1)\n",
        "        self.fc1 = nn.Linear(5*5*16,120)\n",
        "        self.fc2 = nn.Linear(120,84)\n",
        "        self.fc3 = nn.Linear(84,10)\n",
        "\n",
        "    def forward(self, X):\n",
        "        X = F.relu(self.conv1(X))\n",
        "        X = F.max_pool2d(X, 2, 2)\n",
        "        X = F.relu(self.conv2(X))\n",
        "        X = F.max_pool2d(X, 2, 2)\n",
        "        X = X.view(-1, 5*5*16)\n",
        "        X = F.relu(self.fc1(X))\n",
        "        X = F.relu(self.fc2(X))\n",
        "        X = self.fc3(X)\n",
        "        return F.log_softmax(X, dim=1)\n",
        "# %%\n",
        "\n",
        "torch.manual_seed(42)\n",
        "model = ConvolutionalNetwork()\n",
        "model\n",
        "# %%\n",
        "criterion = nn.CrossEntropyLoss()\n",
        "optimizer = torch.optim.Adam(model.parameters(), lr=0.001)\n",
        "\n",
        "# %%\n",
        "import time\n",
        "start_time = time.time()\n",
        "\n",
        "# Variables ( Trackers)\n",
        "epochs = 5\n",
        "train_losses = []\n",
        "test_losses = []\n",
        "train_correct = []\n",
        "test_correct = []\n",
        "\n",
        "# for loop epochs\n",
        "for i in range(epochs):\n",
        "\n",
        "    trn_corr = 0\n",
        "    tst_corr = 0\n",
        "\n",
        "\n",
        "    # Run the training batches\n",
        "    for b, (X_train, y_train) in enumerate(train_loader):\n",
        "        b+=1\n",
        "\n",
        "        # Apply the model\n",
        "        y_pred = model(X_train)  # we not flatten X-train here\n",
        "        loss = criterion(y_pred, y_train)\n",
        "\n",
        "\n",
        "        predicted = torch.max(y_pred.data, 1)[1]\n",
        "        batch_corr = (predicted == y_train).sum()  # Trure 1 / False 0 sum()\n",
        "        trn_corr += batch_corr\n",
        "\n",
        "        #The optimizer steps were not being applied after each batch\n",
        "        #This was due to incorrect indentation\n",
        "        optimizer.zero_grad()\n",
        "        loss.backward()\n",
        "        optimizer.step()\n",
        "\n",
        "        # Print interim results\n",
        "        if b%600 == 0:\n",
        "            print(f'epoch: {i}  batch: {b} loss: {loss.item()}')\n",
        "\n",
        "    train_losses.append(loss)\n",
        "    train_correct.append(trn_corr)\n",
        "\n",
        "    #"
      ],
      "metadata": {
        "colab": {
          "base_uri": "https://localhost:8080/"
        },
        "id": "NZJ2yDxY1eDh",
        "outputId": "1847e76b-f665-4c2f-bc1c-829f6d515ade"
      },
      "execution_count": null,
      "outputs": [
        {
          "output_type": "stream",
          "name": "stdout",
          "text": [
            "epoch: 0  batch: 600 loss: 0.040556274354457855\n",
            "epoch: 0  batch: 1200 loss: 0.08253474533557892\n",
            "epoch: 0  batch: 1800 loss: 0.3647049069404602\n",
            "epoch: 0  batch: 2400 loss: 0.018250251188874245\n",
            "epoch: 0  batch: 3000 loss: 0.008067040704190731\n",
            "epoch: 0  batch: 3600 loss: 0.001166942878626287\n",
            "epoch: 0  batch: 4200 loss: 0.5255253911018372\n",
            "epoch: 0  batch: 4800 loss: 0.03260819613933563\n",
            "epoch: 0  batch: 5400 loss: 0.007468158844858408\n",
            "epoch: 0  batch: 6000 loss: 0.03889675810933113\n",
            "epoch: 1  batch: 600 loss: 0.02649933472275734\n",
            "epoch: 1  batch: 1200 loss: 0.04245013743638992\n",
            "epoch: 1  batch: 1800 loss: 0.008180545642971992\n",
            "epoch: 1  batch: 2400 loss: 0.2531279921531677\n",
            "epoch: 1  batch: 3000 loss: 0.326610267162323\n",
            "epoch: 1  batch: 3600 loss: 0.3586588203907013\n",
            "epoch: 1  batch: 4200 loss: 0.010581123642623425\n",
            "epoch: 1  batch: 4800 loss: 0.010730302892625332\n",
            "epoch: 1  batch: 5400 loss: 0.0007143120164982975\n",
            "epoch: 1  batch: 6000 loss: 0.012492910958826542\n",
            "epoch: 2  batch: 600 loss: 0.0019037548918277025\n",
            "epoch: 2  batch: 1200 loss: 0.00026008341228589416\n",
            "epoch: 2  batch: 1800 loss: 0.07955019176006317\n",
            "epoch: 2  batch: 2400 loss: 0.06544847786426544\n",
            "epoch: 2  batch: 3000 loss: 0.0026203952729701996\n",
            "epoch: 2  batch: 3600 loss: 0.10066759586334229\n",
            "epoch: 2  batch: 4200 loss: 0.0013951885048300028\n",
            "epoch: 2  batch: 4800 loss: 0.0008263668278232217\n",
            "epoch: 2  batch: 5400 loss: 0.13797225058078766\n",
            "epoch: 2  batch: 6000 loss: 0.0013415388530120254\n",
            "epoch: 3  batch: 600 loss: 0.00022535878815688193\n",
            "epoch: 3  batch: 1200 loss: 0.0007818449521437287\n",
            "epoch: 3  batch: 1800 loss: 0.0004416370647959411\n",
            "epoch: 3  batch: 2400 loss: 0.000471620965981856\n",
            "epoch: 3  batch: 3000 loss: 0.24031321704387665\n",
            "epoch: 3  batch: 3600 loss: 0.07653554528951645\n",
            "epoch: 3  batch: 4200 loss: 0.00855112262070179\n",
            "epoch: 3  batch: 4800 loss: 0.0027815834619104862\n",
            "epoch: 3  batch: 5400 loss: 0.0009252230520360172\n",
            "epoch: 3  batch: 6000 loss: 2.0932409825036302e-05\n",
            "epoch: 4  batch: 600 loss: 0.0033694677986204624\n",
            "epoch: 4  batch: 1200 loss: 0.0002963733277283609\n",
            "epoch: 4  batch: 1800 loss: 3.1470917747355998e-06\n",
            "epoch: 4  batch: 2400 loss: 0.034202560782432556\n",
            "epoch: 4  batch: 3000 loss: 0.009766055271029472\n",
            "epoch: 4  batch: 3600 loss: 0.0030155908316373825\n",
            "epoch: 4  batch: 4200 loss: 0.002285040682181716\n",
            "epoch: 4  batch: 4800 loss: 0.0002667862572707236\n",
            "epoch: 4  batch: 5400 loss: 2.9800943593727425e-05\n",
            "epoch: 4  batch: 6000 loss: 8.418852667091414e-05\n"
          ]
        }
      ]
    },
    {
      "cell_type": "code",
      "source": [
        "train_losses = [t.detach().numpy() for t in train_losses]\n",
        "test_losses = [t.detach().numpy() for t in test_losses]\n",
        "\n",
        "plt.plot(train_losses, label='training loss')\n",
        "plt.plot(test_losses, label='validation loss')\n",
        "plt.title('Loss at the end of each epoch')\n",
        "plt.legend();\n",
        "plt.show()"
      ],
      "metadata": {
        "colab": {
          "base_uri": "https://localhost:8080/",
          "height": 452
        },
        "id": "qO2L2Ros4Hf-",
        "outputId": "dbbb5259-27ef-4fff-ed91-179ccf4da887"
      },
      "execution_count": null,
      "outputs": [
        {
          "output_type": "display_data",
          "data": {
            "text/plain": [
              "<Figure size 640x480 with 1 Axes>"
            ],
            "image/png": "[encoded data removed]"
          },
          "metadata": {}
        }
      ]
    },
    {
      "cell_type": "code",
      "source": [
        "\n",
        "plt.plot([t/600 for t in train_correct], label='training accuracy')\n",
        "plt.plot([t/100 for t in test_correct], label='validation accuracy')\n",
        "plt.title('Accuracy at the end of each epoch')\n",
        "plt.legend();\n",
        "plt.show()"
      ],
      "metadata": {
        "colab": {
          "base_uri": "https://localhost:8080/",
          "height": 452
        },
        "id": "IG5wwJZo4nGJ",
        "outputId": "8562a139-95cb-4c7b-fe30-0c3dafe72aa6"
      },
      "execution_count": null,
      "outputs": [
        {
          "data": {
            "image/png": "[encoded data removed]",
            "text/plain": [
              "<Figure size 640x480 with 1 Axes>"
            ]
          },
          "metadata": {},
          "output_type": "display_data"
        }
      ]
    },
    {
      "cell_type": "code",
      "source": [
        "\n",
        "test_load_all = DataLoader(test_data, batch_size=10000, shuffle=False)"
      ],
      "metadata": {
        "id": "geVoDhrZ4r6y"
      },
      "execution_count": null,
      "outputs": []
    },
    {
      "cell_type": "code",
      "source": [
        "with torch.no_grad():\n",
        "    correct = 0\n",
        "    for X_test, y_test in test_load_all:\n",
        "        y_val = model(X_test)  # we don't flatten the data this time\n",
        "        predicted = torch.max(y_val,1)[1]\n",
        "        correct += (predicted == y_test).sum()"
      ],
      "metadata": {
        "id": "vyA3JZio41uI"
      },
      "execution_count": null,
      "outputs": []
    },
    {
      "cell_type": "code",
      "source": [
        "print(\"name:SANJAY M\")\n",
        "print(\"reg no:212222110038\")"
      ],
      "metadata": {
        "colab": {
          "base_uri": "https://localhost:8080/"
        },
        "id": "3Q6a-3gE5c0-",
        "outputId": "1a1ee0a2-d57f-4b09-b3f5-89947867dc5f"
      },
      "execution_count": null,
      "outputs": [
        {
          "output_type": "stream",
          "name": "stdout",
          "text": [
            "name:SANJAY M\n",
            "reg no:212222110038\n"
          ]
        }
      ]
    },
    {
      "cell_type": "code",
      "source": [
        "\n",
        "\n",
        "\n",
        "\n",
        "correct.item()"
      ],
      "metadata": {
        "colab": {
          "base_uri": "https://localhost:8080/"
        },
        "id": "mMPu5xcG5hN1",
        "outputId": "f99da05d-1534-4c3c-b20a-38710e15425f"
      },
      "execution_count": null,
      "outputs": [
        {
          "output_type": "execute_result",
          "data": {
            "text/plain": [
              "9880"
            ]
          },
          "metadata": {},
          "execution_count": 31
        }
      ]
    },
    {
      "cell_type": "code",
      "source": [
        "\n",
        "correct.item()/len(test_data)\n"
      ],
      "metadata": {
        "colab": {
          "base_uri": "https://localhost:8080/"
        },
        "id": "LmiCofmT5qVc",
        "outputId": "5375e342-7fd4-40ca-b3d7-f6fe6ad23ce6"
      },
      "execution_count": null,
      "outputs": [
        {
          "output_type": "execute_result",
          "data": {
            "text/plain": [
              "0.988"
            ]
          },
          "metadata": {},
          "execution_count": 32
        }
      ]
    },
    {
      "cell_type": "code",
      "source": [
        "\n",
        "\n",
        "np.set_printoptions(formatter=dict(int=lambda x: f'{x:4}'))\n",
        "print(np.arange(10).reshape(1,10))\n",
        "print()\n",
        "print(confusion_matrix(predicted.view(-1), y_test.view(-1)))"
      ],
      "metadata": {
        "colab": {
          "base_uri": "https://localhost:8080/"
        },
        "id": "nWg7UwTl5uvS",
        "outputId": "9bb0ae82-d153-48c8-9516-28676ddbef65"
      },
      "execution_count": null,
      "outputs": [
        {
          "output_type": "stream",
          "name": "stdout",
          "text": [
            "[[   0    1    2    3    4    5    6    7    8    9]]\n",
            "\n",
            "[[ 976    0    1    0    0    1    4    0    5    0]\n",
            " [   0 1128    0    0    1    0    2    3    1    0]\n",
            " [   0    0 1020    3    0    0    2    8    1    1]\n",
            " [   0    2    2  998    0    1    0    0    3    1]\n",
            " [   0    0    2    0  971    0    1    0    0    4]\n",
            " [   2    1    0    7    0  886    3    0    2    5]\n",
            " [   1    1    0    0    6    1  945    0    1    0]\n",
            " [   1    2    6    2    0    1    0 1013    3    3]\n",
            " [   0    1    1    0    1    1    1    1  955    7]\n",
            " [   0    0    0    0    3    1    0    3    3  988]]\n"
          ]
        }
      ]
    },
    {
      "cell_type": "code",
      "source": [
        "plt.imshow(test_data[2019][0].reshape(28,28))\n",
        "plt.show()"
      ],
      "metadata": {
        "colab": {
          "base_uri": "https://localhost:8080/",
          "height": 430
        },
        "id": "TzA5Zsy654Q8",
        "outputId": "d5e7903c-a9fa-4e24-9069-19a8088849a3"
      },
      "execution_count": null,
      "outputs": [
        {
          "output_type": "display_data",
          "data": {
            "text/plain": [
              "<Figure size 640x480 with 1 Axes>"
            ],
            "image/png": "[encoded data removed]"
          },
          "metadata": {}
        }
      ]
    },
    {
      "cell_type": "code",
      "source": [
        "model.eval()\n",
        "with torch.no_grad():\n",
        "    new_prediction = model(test_data[2019][0].view(1,1,28,28))"
      ],
      "metadata": {
        "id": "B-VG5Pmq6i9t"
      },
      "execution_count": null,
      "outputs": []
    },
    {
      "cell_type": "code",
      "source": [
        "\n",
        "\n",
        "new_prediction.argmax()"
      ],
      "metadata": {
        "colab": {
          "base_uri": "https://localhost:8080/"
        },
        "id": "jAReafIg6nFg",
        "outputId": "308d48f6-39bf-4063-b9db-572c84a65afa"
      },
      "execution_count": null,
      "outputs": [
        {
          "output_type": "execute_result",
          "data": {
            "text/plain": [
              "tensor(9)"
            ]
          },
          "metadata": {},
          "execution_count": 38
        }
      ]
    },
    {
      "cell_type": "code",
      "source": [
        "\n",
        "torch.save(model.state_dict(), 'sanjay.pt')"
      ],
      "metadata": {
        "id": "_QmIOC_56t7N"
      },
      "execution_count": null,
      "outputs": []
    },
    {
      "cell_type": "code",
      "source": [
        "\n",
        "new_model = ConvolutionalNetwork() # Replace Model with ConvolutionalNetwork\n",
        "new_model.load_state_dict(torch.load('sanjay.pt'))\n",
        "new_model.eval()"
      ],
      "metadata": {
        "colab": {
          "base_uri": "https://localhost:8080/"
        },
        "id": "20YjzOq66xKS",
        "outputId": "00f43350-bdf6-40f2-f18a-75d90dbdad87"
      },
      "execution_count": null,
      "outputs": [
        {
          "output_type": "execute_result",
          "data": {
            "text/plain": [
              "ConvolutionalNetwork(\n",
              "  (conv1): Conv2d(1, 6, kernel_size=(3, 3), stride=(1, 1))\n",
              "  (conv2): Conv2d(6, 16, kernel_size=(3, 3), stride=(1, 1))\n",
              "  (fc1): Linear(in_features=400, out_features=120, bias=True)\n",
              "  (fc2): Linear(in_features=120, out_features=84, bias=True)\n",
              "  (fc3): Linear(in_features=84, out_features=10, bias=True)\n",
              ")"
            ]
          },
          "metadata": {},
          "execution_count": 42
        }
      ]
    }
  ]
}